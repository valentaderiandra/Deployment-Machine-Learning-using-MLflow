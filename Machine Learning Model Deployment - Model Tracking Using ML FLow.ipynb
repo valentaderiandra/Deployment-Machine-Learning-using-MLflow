{
 "cells": [
  {
   "cell_type": "markdown",
   "id": "26477f81",
   "metadata": {},
   "source": [
    "# Machine Learning Model Deployment \n",
    "\n",
    "# Model Tracking Using ML FLow\n",
    "mini project by Group 1 Data Science B - MyEduSolve"
   ]
  },
  {
   "cell_type": "markdown",
   "id": "6a1e2e8d",
   "metadata": {},
   "source": [
    "# Use Case"
   ]
  },
  {
   "cell_type": "markdown",
   "id": "c61733e2",
   "metadata": {},
   "source": [
    "* **Use Case Summary**\n",
    "\n",
    "\n",
    "* **Objective Statement** :\n",
    "    \n",
    "    * Get business insight about the average, maximum and minimum minimum visitor and buyer\n",
    "    * Get business insight about how many visitor in 30 day\n",
    "    * Get business insight about how many buyer in 30 day\n",
    "    * Get business insight about how many visitors buy more than once\n",
    "    * Get business insight about how to predict buyers based on visitors in one day using Machine Learning Simple Linear Regression\n",
    "    * Deployment using ML Flow\n",
    "    \n",
    "    \n",
    "* **Challanges** :\n",
    "    * Do not know the time of data collection\n",
    "    * Don't know what the opening and closing hours are\n",
    "\n",
    "\n",
    "* **Methodology / Analytic Technique** :\n",
    "    * Descriptive analysis\n",
    "        * Describe the information such as, min/max value of each column, average, and the total count \n",
    "    * Graph analysis\n",
    "    * Using Machine Learning to predict \n",
    "        * Using Simple Linear Regression\n",
    "    * Using ML Flow to Deployment\n",
    "\n",
    "\n",
    "* **Business Benefit**:\n",
    "\n",
    "    * Gain insight to treat and keep customers based on segment\n",
    "    * Gain insight to improve the quality of company services so that customers remain loyal and gain more profit for the company\n",
    "    * Build machine learning using Simple Linear Regression\n",
    "    * Deployment using MLFlow\n",
    "\n",
    "\n",
    "* **Expected Outcome**:\n",
    "\n",
    "    * Know about the average, maximum and minimum minimum visitor and buyer\n",
    "    * Know how many visitor in 30 day?\n",
    "    * Know how many buyer in 30 day?\n",
    "    * know how many visitors buy more than once?\n",
    "    * Know how to predict total buyers based on visitors in one day using Machine Learning Simple Linear Regression ?\n",
    "    * Know how to Deployment using MLFlow?"
   ]
  },
  {
   "cell_type": "markdown",
   "id": "8f42920e",
   "metadata": {},
   "source": [
    "# Business Understanding\n",
    "* Data is a sales data in supermarkets based on visitors and buyers within 30 days:\n",
    "    * How about the average, maximum and minimum minimum visitor and buyer\n",
    "    * How many visitor in 30 day?\n",
    "    * How many buyer in 30 day?\n",
    "    * How many visitors buy more than once?\n",
    "    * How to predict buyers based on visitors in one day using Machine Learning Simple Linear Regression?\n",
    "    * How to Deployment using ML Flow?"
   ]
  },
  {
   "cell_type": "markdown",
   "id": "5322ebaf",
   "metadata": {},
   "source": [
    "# Data Understanding\n",
    "\n",
    "\n",
    "* **Source Data**:\n",
    "    * The dataset used is data from https://www.kaggle.com/datasets/reyanmatrika/supermarket-visitor-linear-regression\n",
    "    * 30 day sales data\n",
    "    * The raw data contains 30 rows and 2 columns.\n",
    "\n",
    "\n",
    "* **Data Dictionary** :\n",
    "    * Visitor : total number of visitors\n",
    "    * Buyer : total number of visitors"
   ]
  },
  {
   "cell_type": "markdown",
   "id": "7f6fdb03",
   "metadata": {},
   "source": [
    "# Data Preparation\n",
    "\n",
    "* **Code use** :\n",
    "    * Python 3.9.13\n",
    "* **Package** : \n",
    "    * Pandas, Numpy, Matplotlib, Seaborn, Scipy, Sklearn, and Warning "
   ]
  },
  {
   "cell_type": "markdown",
   "id": "b3e59bd8",
   "metadata": {},
   "source": [
    "# Data Profiling"
   ]
  },
  {
   "cell_type": "markdown",
   "id": "c4da7a67",
   "metadata": {},
   "source": [
    "Data profiling refers to the process of examining, analyzing, reviewing and summarizing data sets to gain insight into the quality of data."
   ]
  },
  {
   "cell_type": "markdown",
   "id": "acdfa731",
   "metadata": {},
   "source": [
    "Import the library we need for data processing"
   ]
  },
  {
   "cell_type": "code",
   "execution_count": 1,
   "id": "2bb106cf",
   "metadata": {},
   "outputs": [],
   "source": [
    "# pip install mlflow"
   ]
  },
  {
   "cell_type": "code",
   "execution_count": 2,
   "id": "a8e44764",
   "metadata": {},
   "outputs": [],
   "source": [
    "# pip install mlflow[extras]"
   ]
  },
  {
   "cell_type": "code",
   "execution_count": 3,
   "id": "8ba6ed8f",
   "metadata": {},
   "outputs": [],
   "source": [
    "import pandas as pd\n",
    "import numpy as np\n",
    "import matplotlib.pyplot as plt\n",
    "import seaborn as sns\n",
    "from sklearn.linear_model import LinearRegression\n",
    "from sklearn.model_selection import train_test_split\n",
    "from sklearn.preprocessing import StandardScaler\n",
    "from sklearn.preprocessing import MinMaxScaler\n",
    "from sklearn.metrics import mean_absolute_error\n",
    "from sklearn.metrics import mean_absolute_percentage_error\n",
    "from sklearn.metrics import r2_score\n",
    "from sklearn.metrics import mean_squared_error\n",
    "from sklearn.metrics import mean_squared_error, mean_absolute_error, mean_absolute_percentage_error, r2_score\n",
    "from sklearn.model_selection import cross_val_score\n",
    "from sklearn.model_selection import GridSearchCV\n",
    "\n",
    "import warnings\n",
    "warnings.filterwarnings('ignore')"
   ]
  },
  {
   "cell_type": "markdown",
   "id": "efb02bd9",
   "metadata": {},
   "source": [
    "We load the supermarket dataset"
   ]
  },
  {
   "cell_type": "code",
   "execution_count": 4,
   "id": "6df84335",
   "metadata": {},
   "outputs": [],
   "source": [
    "df = pd.read_csv(\"supermarket_buyer.csv\")"
   ]
  },
  {
   "cell_type": "markdown",
   "id": "2b3d95e0",
   "metadata": {},
   "source": [
    "we display the top 5 rows of the supermarket dataset within 30 days"
   ]
  },
  {
   "cell_type": "code",
   "execution_count": 5,
   "id": "38909e78",
   "metadata": {},
   "outputs": [
    {
     "data": {
      "text/html": [
       "<div>\n",
       "<style scoped>\n",
       "    .dataframe tbody tr th:only-of-type {\n",
       "        vertical-align: middle;\n",
       "    }\n",
       "\n",
       "    .dataframe tbody tr th {\n",
       "        vertical-align: top;\n",
       "    }\n",
       "\n",
       "    .dataframe thead th {\n",
       "        text-align: right;\n",
       "    }\n",
       "</style>\n",
       "<table border=\"1\" class=\"dataframe\">\n",
       "  <thead>\n",
       "    <tr style=\"text-align: right;\">\n",
       "      <th></th>\n",
       "      <th>Visitor</th>\n",
       "      <th>Buyer</th>\n",
       "    </tr>\n",
       "  </thead>\n",
       "  <tbody>\n",
       "    <tr>\n",
       "      <th>0</th>\n",
       "      <td>34</td>\n",
       "      <td>32</td>\n",
       "    </tr>\n",
       "    <tr>\n",
       "      <th>1</th>\n",
       "      <td>38</td>\n",
       "      <td>36</td>\n",
       "    </tr>\n",
       "    <tr>\n",
       "      <th>2</th>\n",
       "      <td>34</td>\n",
       "      <td>31</td>\n",
       "    </tr>\n",
       "    <tr>\n",
       "      <th>3</th>\n",
       "      <td>40</td>\n",
       "      <td>38</td>\n",
       "    </tr>\n",
       "    <tr>\n",
       "      <th>4</th>\n",
       "      <td>30</td>\n",
       "      <td>29</td>\n",
       "    </tr>\n",
       "  </tbody>\n",
       "</table>\n",
       "</div>"
      ],
      "text/plain": [
       "   Visitor  Buyer\n",
       "0       34     32\n",
       "1       38     36\n",
       "2       34     31\n",
       "3       40     38\n",
       "4       30     29"
      ]
     },
     "execution_count": 5,
     "metadata": {},
     "output_type": "execute_result"
    }
   ],
   "source": [
    "df.head()"
   ]
  },
  {
   "cell_type": "markdown",
   "id": "dd49fcb9",
   "metadata": {},
   "source": [
    "you can see these are the top 5 dataset displays, for example: 34 visitors can get 32 buyers, on different days, 38 visitors with 36 buyers"
   ]
  },
  {
   "cell_type": "markdown",
   "id": "169d619f",
   "metadata": {},
   "source": [
    "we display dataset info"
   ]
  },
  {
   "cell_type": "code",
   "execution_count": 6,
   "id": "253484fd",
   "metadata": {},
   "outputs": [
    {
     "name": "stdout",
     "output_type": "stream",
     "text": [
      "<class 'pandas.core.frame.DataFrame'>\n",
      "RangeIndex: 30 entries, 0 to 29\n",
      "Data columns (total 2 columns):\n",
      " #   Column   Non-Null Count  Dtype\n",
      "---  ------   --------------  -----\n",
      " 0   Visitor  30 non-null     int64\n",
      " 1   Buyer    30 non-null     int64\n",
      "dtypes: int64(2)\n",
      "memory usage: 608.0 bytes\n"
     ]
    }
   ],
   "source": [
    "df.info()"
   ]
  },
  {
   "cell_type": "markdown",
   "id": "852c1fa2",
   "metadata": {},
   "source": [
    "here it can be seen if **the data type is appropriate** and **there is no missing value**"
   ]
  },
  {
   "cell_type": "markdown",
   "id": "4e5a6b89",
   "metadata": {},
   "source": [
    "we check how many missing values are in the dataset"
   ]
  },
  {
   "cell_type": "code",
   "execution_count": 7,
   "id": "64f82c26",
   "metadata": {},
   "outputs": [
    {
     "data": {
      "text/plain": [
       "Visitor    0\n",
       "Buyer      0\n",
       "dtype: int64"
      ]
     },
     "execution_count": 7,
     "metadata": {},
     "output_type": "execute_result"
    }
   ],
   "source": [
    "df.isna().sum()"
   ]
  },
  {
   "cell_type": "markdown",
   "id": "c1defe4e",
   "metadata": {},
   "source": [
    "di sini bisa dilihat bila **tidak ada missing value**"
   ]
  },
  {
   "cell_type": "markdown",
   "id": "8627ad36",
   "metadata": {},
   "source": [
    "# Data Cleansing"
   ]
  },
  {
   "cell_type": "markdown",
   "id": "898661c3",
   "metadata": {},
   "source": [
    "the data is clean **because there are no missing values and the data types are appropriate** so **no need for data cleansing**"
   ]
  },
  {
   "cell_type": "markdown",
   "id": "c14eed5a",
   "metadata": {},
   "source": [
    "# Exploratory Data Analysis"
   ]
  },
  {
   "cell_type": "markdown",
   "id": "19fe60c2",
   "metadata": {},
   "source": [
    "In statistics, exploratory data analysis is the approach of analyzing a data set to summarize its main characteristics, often using statistical charts and other data visualization methods"
   ]
  },
  {
   "cell_type": "markdown",
   "id": "1c7a8446",
   "metadata": {},
   "source": [
    "we are looking for a description of the dataset. The describe() function is used to display descriptive statistics from a data frame or series"
   ]
  },
  {
   "cell_type": "code",
   "execution_count": 8,
   "id": "548c6ab6",
   "metadata": {},
   "outputs": [
    {
     "data": {
      "text/html": [
       "<div>\n",
       "<style scoped>\n",
       "    .dataframe tbody tr th:only-of-type {\n",
       "        vertical-align: middle;\n",
       "    }\n",
       "\n",
       "    .dataframe tbody tr th {\n",
       "        vertical-align: top;\n",
       "    }\n",
       "\n",
       "    .dataframe thead th {\n",
       "        text-align: right;\n",
       "    }\n",
       "</style>\n",
       "<table border=\"1\" class=\"dataframe\">\n",
       "  <thead>\n",
       "    <tr style=\"text-align: right;\">\n",
       "      <th></th>\n",
       "      <th>Visitor</th>\n",
       "      <th>Buyer</th>\n",
       "    </tr>\n",
       "  </thead>\n",
       "  <tbody>\n",
       "    <tr>\n",
       "      <th>count</th>\n",
       "      <td>30.000000</td>\n",
       "      <td>30.000000</td>\n",
       "    </tr>\n",
       "    <tr>\n",
       "      <th>mean</th>\n",
       "      <td>35.200000</td>\n",
       "      <td>33.400000</td>\n",
       "    </tr>\n",
       "    <tr>\n",
       "      <th>std</th>\n",
       "      <td>3.763711</td>\n",
       "      <td>2.647054</td>\n",
       "    </tr>\n",
       "    <tr>\n",
       "      <th>min</th>\n",
       "      <td>29.000000</td>\n",
       "      <td>29.000000</td>\n",
       "    </tr>\n",
       "    <tr>\n",
       "      <th>25%</th>\n",
       "      <td>32.000000</td>\n",
       "      <td>31.250000</td>\n",
       "    </tr>\n",
       "    <tr>\n",
       "      <th>50%</th>\n",
       "      <td>35.000000</td>\n",
       "      <td>33.000000</td>\n",
       "    </tr>\n",
       "    <tr>\n",
       "      <th>75%</th>\n",
       "      <td>38.000000</td>\n",
       "      <td>36.000000</td>\n",
       "    </tr>\n",
       "    <tr>\n",
       "      <th>max</th>\n",
       "      <td>42.000000</td>\n",
       "      <td>38.000000</td>\n",
       "    </tr>\n",
       "  </tbody>\n",
       "</table>\n",
       "</div>"
      ],
      "text/plain": [
       "         Visitor      Buyer\n",
       "count  30.000000  30.000000\n",
       "mean   35.200000  33.400000\n",
       "std     3.763711   2.647054\n",
       "min    29.000000  29.000000\n",
       "25%    32.000000  31.250000\n",
       "50%    35.000000  33.000000\n",
       "75%    38.000000  36.000000\n",
       "max    42.000000  38.000000"
      ]
     },
     "execution_count": 8,
     "metadata": {},
     "output_type": "execute_result"
    }
   ],
   "source": [
    "df.describe()"
   ]
  },
  {
   "cell_type": "markdown",
   "id": "e5dd2b0d",
   "metadata": {},
   "source": [
    "From the results of a descriptive analysis using 30 rows of data, some insights were obtained. The distribution of the data is still normal, this can be seen from the small standard deviation. **On average** buyers are 35 visitors with 33 purchases.**In busy times** , the maximum number of visitors is 42 visitors with **the most purchases** are 38. **The quietest visitors** are 29 visitors and **the minimum buyer** is 29 so that **it can be concluded that most likely when it is quiet every visitor buys 1 goods**. When there were 38 visitors, the average purchase was 36. When there were 35 visitors, the average buyer was 33. When there were 32 visitors, the average buyer was 31."
   ]
  },
  {
   "cell_type": "markdown",
   "id": "68ed46fe",
   "metadata": {},
   "source": [
    "We show how many visitors using a bar chart"
   ]
  },
  {
   "cell_type": "code",
   "execution_count": 9,
   "id": "c54c912f",
   "metadata": {},
   "outputs": [
    {
     "data": {
      "text/plain": [
       "Text(0.5, 1.0, 'Visitor')"
      ]
     },
     "execution_count": 9,
     "metadata": {},
     "output_type": "execute_result"
    },
    {
     "data": {
      "image/png": "[encoded data removed]",
      "text/plain": [
       "<Figure size 640x480 with 1 Axes>"
      ]
     },
     "metadata": {},
     "output_type": "display_data"
    }
   ],
   "source": [
    "df['Visitor'].value_counts().plot(kind='bar')\n",
    "plt.title('Visitor')"
   ]
  },
  {
   "cell_type": "markdown",
   "id": "7003c612",
   "metadata": {},
   "source": [
    "From visitor data in the last month, **the most frequent** (4 days) visitors came to the supermarket **as many as 40 and 36 visitors**. this might happen because **weekends** in one month can happen 4 times (Saturdays and Sundays). **the loneliest day** happened when one day only had **29 visitors**, fortunately it only happened for 1 day. **possibly** there will be no visitors because it falls on **Monday and it's raining**"
   ]
  },
  {
   "cell_type": "markdown",
   "id": "5654ab6b",
   "metadata": {},
   "source": [
    "We display the mode of the visitor"
   ]
  },
  {
   "cell_type": "code",
   "execution_count": 10,
   "id": "8eedbd47",
   "metadata": {},
   "outputs": [
    {
     "data": {
      "text/plain": [
       "36"
      ]
     },
     "execution_count": 10,
     "metadata": {},
     "output_type": "execute_result"
    }
   ],
   "source": [
    "df['Visitor'].mode().values[0]"
   ]
  },
  {
   "cell_type": "markdown",
   "id": "e31968da",
   "metadata": {},
   "source": [
    "Visitor mode of 36 visitors, can be seen from the previous bar chart, days with a total of 36 visitors occur 4 times"
   ]
  },
  {
   "cell_type": "markdown",
   "id": "7a9dfee4",
   "metadata": {},
   "source": [
    "we display the number of buyers using a bar chart"
   ]
  },
  {
   "cell_type": "code",
   "execution_count": 11,
   "id": "23ad5cb3",
   "metadata": {},
   "outputs": [
    {
     "data": {
      "text/plain": [
       "Text(0.5, 1.0, 'Buyer')"
      ]
     },
     "execution_count": 11,
     "metadata": {},
     "output_type": "execute_result"
    },
    {
     "data": {
      "image/png": "[encoded data removed]",
      "text/plain": [
       "<Figure size 640x480 with 1 Axes>"
      ]
     },
     "metadata": {},
     "output_type": "display_data"
    }
   ],
   "source": [
    "df['Buyer'].value_counts().plot(kind='bar')\n",
    "plt.title('Buyer')"
   ]
  },
  {
   "cell_type": "markdown",
   "id": "daa5eac5",
   "metadata": {},
   "source": [
    "from the last month's data, most often (**6 days**) there are **32 buyers in one day**. it might happen because it coincides with **weekend and there is a promotion**. and **the loneliest** day of buyers occurred where there were only **29 buyers in one day.**"
   ]
  },
  {
   "cell_type": "markdown",
   "id": "b0558aef",
   "metadata": {},
   "source": [
    "we show the mode of the Buyer"
   ]
  },
  {
   "cell_type": "code",
   "execution_count": 12,
   "id": "4adc1e2b",
   "metadata": {},
   "outputs": [
    {
     "data": {
      "text/plain": [
       "32"
      ]
     },
     "execution_count": 12,
     "metadata": {},
     "output_type": "execute_result"
    }
   ],
   "source": [
    "df['Buyer'].mode().values[0]"
   ]
  },
  {
   "cell_type": "markdown",
   "id": "be7e2f73",
   "metadata": {},
   "source": [
    "**Buyer's mode** is **32** so it can be concluded in the last month **often 32 buyers a day**"
   ]
  },
  {
   "cell_type": "markdown",
   "id": "2570d454",
   "metadata": {},
   "source": [
    "we show, is there a Visitor who buys more than once?"
   ]
  },
  {
   "cell_type": "code",
   "execution_count": 13,
   "id": "a86ad29c",
   "metadata": {},
   "outputs": [
    {
     "data": {
      "text/html": [
       "<div>\n",
       "<style scoped>\n",
       "    .dataframe tbody tr th:only-of-type {\n",
       "        vertical-align: middle;\n",
       "    }\n",
       "\n",
       "    .dataframe tbody tr th {\n",
       "        vertical-align: top;\n",
       "    }\n",
       "\n",
       "    .dataframe thead th {\n",
       "        text-align: right;\n",
       "    }\n",
       "</style>\n",
       "<table border=\"1\" class=\"dataframe\">\n",
       "  <thead>\n",
       "    <tr style=\"text-align: right;\">\n",
       "      <th></th>\n",
       "      <th>Visitor</th>\n",
       "      <th>Buyer</th>\n",
       "    </tr>\n",
       "  </thead>\n",
       "  <tbody>\n",
       "    <tr>\n",
       "      <th>15</th>\n",
       "      <td>32</td>\n",
       "      <td>38</td>\n",
       "    </tr>\n",
       "    <tr>\n",
       "      <th>16</th>\n",
       "      <td>36</td>\n",
       "      <td>37</td>\n",
       "    </tr>\n",
       "    <tr>\n",
       "      <th>19</th>\n",
       "      <td>29</td>\n",
       "      <td>30</td>\n",
       "    </tr>\n",
       "    <tr>\n",
       "      <th>22</th>\n",
       "      <td>30</td>\n",
       "      <td>34</td>\n",
       "    </tr>\n",
       "    <tr>\n",
       "      <th>23</th>\n",
       "      <td>32</td>\n",
       "      <td>35</td>\n",
       "    </tr>\n",
       "    <tr>\n",
       "      <th>24</th>\n",
       "      <td>36</td>\n",
       "      <td>36</td>\n",
       "    </tr>\n",
       "    <tr>\n",
       "      <th>25</th>\n",
       "      <td>31</td>\n",
       "      <td>32</td>\n",
       "    </tr>\n",
       "    <tr>\n",
       "      <th>26</th>\n",
       "      <td>31</td>\n",
       "      <td>32</td>\n",
       "    </tr>\n",
       "  </tbody>\n",
       "</table>\n",
       "</div>"
      ],
      "text/plain": [
       "    Visitor  Buyer\n",
       "15       32     38\n",
       "16       36     37\n",
       "19       29     30\n",
       "22       30     34\n",
       "23       32     35\n",
       "24       36     36\n",
       "25       31     32\n",
       "26       31     32"
      ]
     },
     "execution_count": 13,
     "metadata": {},
     "output_type": "execute_result"
    }
   ],
   "source": [
    "df[df['Buyer']>= df['Visitor']]"
   ]
  },
  {
   "cell_type": "markdown",
   "id": "02a5b352",
   "metadata": {},
   "source": [
    "can be seen here, the possibility of a visitor coming in one day to buy **more than one item is 26%**. this might happen because **visitor's friends / family ask to buy the same item as the visitor**"
   ]
  },
  {
   "cell_type": "markdown",
   "id": "3becf4af",
   "metadata": {},
   "source": [
    "We show the distribution of Visitor data"
   ]
  },
  {
   "cell_type": "code",
   "execution_count": 14,
   "id": "e549cae7",
   "metadata": {},
   "outputs": [
    {
     "data": {
      "text/plain": [
       "<AxesSubplot:xlabel='Visitor', ylabel='Density'>"
      ]
     },
     "execution_count": 14,
     "metadata": {},
     "output_type": "execute_result"
    },
    {
     "data": {
      "image/png": "[encoded data removed]",
      "text/plain": [
       "<Figure size 640x480 with 1 Axes>"
      ]
     },
     "metadata": {},
     "output_type": "display_data"
    }
   ],
   "source": [
    "sns.distplot(df[\"Visitor\"])"
   ]
  },
  {
   "cell_type": "markdown",
   "id": "0b23521e",
   "metadata": {},
   "source": [
    "From the graph above it can be concluded that **data distribution is not normal**. **because the mean, mode and median are not the same**"
   ]
  },
  {
   "cell_type": "markdown",
   "id": "453be572",
   "metadata": {},
   "source": [
    "we also show the distribution of buyers"
   ]
  },
  {
   "cell_type": "code",
   "execution_count": 15,
   "id": "96f06cdb",
   "metadata": {},
   "outputs": [
    {
     "data": {
      "text/plain": [
       "<AxesSubplot:xlabel='Buyer', ylabel='Density'>"
      ]
     },
     "execution_count": 15,
     "metadata": {},
     "output_type": "execute_result"
    },
    {
     "data": {
      "image/png": "[encoded data removed]",
      "text/plain": [
       "<Figure size 640x480 with 1 Axes>"
      ]
     },
     "metadata": {},
     "output_type": "display_data"
    }
   ],
   "source": [
    "sns.distplot(df[\"Buyer\"])"
   ]
  },
  {
   "cell_type": "markdown",
   "id": "4a4dce16",
   "metadata": {},
   "source": [
    "From the graph above it can be concluded that **data distribution is not normal**. **because the mean, mode and median are not the same**"
   ]
  },
  {
   "cell_type": "markdown",
   "id": "b51f708f",
   "metadata": {},
   "source": [
    "we show whether there is multicollinearity of the data?"
   ]
  },
  {
   "cell_type": "code",
   "execution_count": 16,
   "id": "10b9594c",
   "metadata": {},
   "outputs": [
    {
     "data": {
      "text/plain": [
       "<AxesSubplot:>"
      ]
     },
     "execution_count": 16,
     "metadata": {},
     "output_type": "execute_result"
    },
    {
     "data": {
      "image/png": "[encoded data removed]",
      "text/plain": [
       "<Figure size 640x480 with 2 Axes>"
      ]
     },
     "metadata": {},
     "output_type": "display_data"
    }
   ],
   "source": [
    "sns.heatmap(df.corr(), annot=True)"
   ]
  },
  {
   "cell_type": "markdown",
   "id": "69b72a7e",
   "metadata": {},
   "source": [
    "from heatmap, there is a strong relationship of total visitors to buyers. **the more visitors the more buyers**. with a correlation value on the heatmap of **0.57** where the figure is above **0.5**"
   ]
  },
  {
   "cell_type": "markdown",
   "id": "907790df",
   "metadata": {},
   "source": [
    "# Preprocessing modelling"
   ]
  },
  {
   "cell_type": "markdown",
   "id": "085228de",
   "metadata": {},
   "source": [
    "Data preprocessing is one of the steps in the data analysis process. In this process, **raw data** is retrieved and **prepared** into a format that is **understandable** and **analyzed by computers** and machine learning."
   ]
  },
  {
   "cell_type": "markdown",
   "id": "4fe6d3cc",
   "metadata": {},
   "source": [
    "we use the Buyer target because we want to predict the Buyer"
   ]
  },
  {
   "cell_type": "code",
   "execution_count": 17,
   "id": "ed7160f9",
   "metadata": {},
   "outputs": [],
   "source": [
    "X = df.drop([\"Buyer\"],axis=1)\n",
    "y = df[\"Buyer\"]"
   ]
  },
  {
   "cell_type": "markdown",
   "id": "900924b8",
   "metadata": {},
   "source": [
    "We split training and test data sets"
   ]
  },
  {
   "cell_type": "code",
   "execution_count": 18,
   "id": "7584df19",
   "metadata": {},
   "outputs": [],
   "source": [
    "X_train, X_test, y_train, y_test = train_test_split(X,y, train_size = 1/3, random_state = 42)"
   ]
  },
  {
   "cell_type": "markdown",
   "id": "33828c37",
   "metadata": {},
   "source": [
    "here we do split training and test. out of 30 data, **we use 1/3 of the data to be trained and the rest to be tested**"
   ]
  },
  {
   "cell_type": "markdown",
   "id": "0190559b",
   "metadata": {},
   "source": [
    "# Machine Learning Regression - Simple Linear Regression"
   ]
  },
  {
   "cell_type": "markdown",
   "id": "b737ba18",
   "metadata": {},
   "source": [
    "The simple linear regression equation is an **equation model that describes the relationship of one independent variable** / predictor (X) **with one dependent variable** / response (Y), which is usually **described as a straight line**"
   ]
  },
  {
   "cell_type": "markdown",
   "id": "3bb2d3ba",
   "metadata": {},
   "source": [
    "* Fitting data for training"
   ]
  },
  {
   "cell_type": "markdown",
   "id": "58a62bb1",
   "metadata": {},
   "source": [
    "we input the regressor variable as a function of Linear Regression. It is enough to write LinearRegression() then the regression model has been prepared."
   ]
  },
  {
   "cell_type": "code",
   "execution_count": 19,
   "id": "4ee2b478",
   "metadata": {},
   "outputs": [],
   "source": [
    "regressor = LinearRegression()\n",
    "# regresor bisa diganti nama model atau apa bebas"
   ]
  },
  {
   "cell_type": "markdown",
   "id": "36bccbc9",
   "metadata": {},
   "source": [
    "here we use linear regression"
   ]
  },
  {
   "cell_type": "markdown",
   "id": "38ac8935",
   "metadata": {},
   "source": [
    "we create a regression model for the train set by writing regressor.fit(X_train, y_train)"
   ]
  },
  {
   "cell_type": "code",
   "execution_count": 20,
   "id": "03f7df12",
   "metadata": {},
   "outputs": [
    {
     "data": {
      "text/plain": [
       "LinearRegression()"
      ]
     },
     "execution_count": 20,
     "metadata": {},
     "output_type": "execute_result"
    }
   ],
   "source": [
    "regressor.fit(X_train, y_train)\n",
    "# disini data latihnya adalah YearExperience"
   ]
  },
  {
   "cell_type": "markdown",
   "id": "aa74e975",
   "metadata": {},
   "source": [
    "let's see what the coefficient of the regressor is"
   ]
  },
  {
   "cell_type": "code",
   "execution_count": 21,
   "id": "c34cd8b8",
   "metadata": {},
   "outputs": [
    {
     "data": {
      "text/plain": [
       "array([0.30986888])"
      ]
     },
     "execution_count": 21,
     "metadata": {},
     "output_type": "execute_result"
    }
   ],
   "source": [
    "regressor.coef_"
   ]
  },
  {
   "cell_type": "markdown",
   "id": "66493327",
   "metadata": {},
   "source": [
    "we can see that the coefficient of the regressor is 0.30986888"
   ]
  },
  {
   "cell_type": "markdown",
   "id": "ec18b48d",
   "metadata": {},
   "source": [
    "* Predict The Result"
   ]
  },
  {
   "cell_type": "markdown",
   "id": "80617aef",
   "metadata": {},
   "source": [
    "to make predictions using the .predict method. To find out what parameters are, we can see them through the object inspector. The required parameter is an independent variable, in this case X_test and not X_train. Why is that? Because we want to predict new data. If we use X_train then we make predictions based on X_train's understanding, even though the understanding itself is made based on X_train. Therefore, we use X_test. Later we will compare this prediction with y_test. If the results are close (the distance is not too far), then our model is good."
   ]
  },
  {
   "cell_type": "code",
   "execution_count": 22,
   "id": "c7e4ac3d",
   "metadata": {},
   "outputs": [],
   "source": [
    "y_pred = regressor.predict(X_test) # anggep aja x disini ujian"
   ]
  },
  {
   "cell_type": "markdown",
   "id": "226a661f",
   "metadata": {},
   "source": [
    "we train predictions from 1/3 of the test data earlier"
   ]
  },
  {
   "cell_type": "markdown",
   "id": "ea00c1bf",
   "metadata": {},
   "source": [
    "* Plot the Result"
   ]
  },
  {
   "cell_type": "markdown",
   "id": "9455fe45",
   "metadata": {},
   "source": [
    "let's see how the predictions and actualnya"
   ]
  },
  {
   "cell_type": "code",
   "execution_count": 23,
   "id": "4c5754f0",
   "metadata": {},
   "outputs": [
    {
     "data": {
      "text/html": [
       "<div>\n",
       "<style scoped>\n",
       "    .dataframe tbody tr th:only-of-type {\n",
       "        vertical-align: middle;\n",
       "    }\n",
       "\n",
       "    .dataframe tbody tr th {\n",
       "        vertical-align: top;\n",
       "    }\n",
       "\n",
       "    .dataframe thead th {\n",
       "        text-align: right;\n",
       "    }\n",
       "</style>\n",
       "<table border=\"1\" class=\"dataframe\">\n",
       "  <thead>\n",
       "    <tr style=\"text-align: right;\">\n",
       "      <th></th>\n",
       "      <th>Actual</th>\n",
       "      <th>Predict</th>\n",
       "    </tr>\n",
       "  </thead>\n",
       "  <tbody>\n",
       "    <tr>\n",
       "      <th>27</th>\n",
       "      <td>34</td>\n",
       "      <td>32.378882</td>\n",
       "    </tr>\n",
       "    <tr>\n",
       "      <th>15</th>\n",
       "      <td>38</td>\n",
       "      <td>31.139406</td>\n",
       "    </tr>\n",
       "    <tr>\n",
       "      <th>23</th>\n",
       "      <td>35</td>\n",
       "      <td>31.139406</td>\n",
       "    </tr>\n",
       "    <tr>\n",
       "      <th>17</th>\n",
       "      <td>30</td>\n",
       "      <td>30.829538</td>\n",
       "    </tr>\n",
       "    <tr>\n",
       "      <th>8</th>\n",
       "      <td>32</td>\n",
       "      <td>32.069013</td>\n",
       "    </tr>\n",
       "    <tr>\n",
       "      <th>9</th>\n",
       "      <td>36</td>\n",
       "      <td>33.308489</td>\n",
       "    </tr>\n",
       "    <tr>\n",
       "      <th>28</th>\n",
       "      <td>32</td>\n",
       "      <td>32.688751</td>\n",
       "    </tr>\n",
       "    <tr>\n",
       "      <th>24</th>\n",
       "      <td>36</td>\n",
       "      <td>32.378882</td>\n",
       "    </tr>\n",
       "    <tr>\n",
       "      <th>12</th>\n",
       "      <td>36</td>\n",
       "      <td>34.238095</td>\n",
       "    </tr>\n",
       "    <tr>\n",
       "      <th>0</th>\n",
       "      <td>32</td>\n",
       "      <td>31.759144</td>\n",
       "    </tr>\n",
       "    <tr>\n",
       "      <th>4</th>\n",
       "      <td>29</td>\n",
       "      <td>30.519669</td>\n",
       "    </tr>\n",
       "    <tr>\n",
       "      <th>16</th>\n",
       "      <td>37</td>\n",
       "      <td>32.378882</td>\n",
       "    </tr>\n",
       "    <tr>\n",
       "      <th>5</th>\n",
       "      <td>35</td>\n",
       "      <td>33.618357</td>\n",
       "    </tr>\n",
       "    <tr>\n",
       "      <th>13</th>\n",
       "      <td>37</td>\n",
       "      <td>33.618357</td>\n",
       "    </tr>\n",
       "    <tr>\n",
       "      <th>11</th>\n",
       "      <td>31</td>\n",
       "      <td>31.139406</td>\n",
       "    </tr>\n",
       "    <tr>\n",
       "      <th>22</th>\n",
       "      <td>34</td>\n",
       "      <td>30.519669</td>\n",
       "    </tr>\n",
       "    <tr>\n",
       "      <th>1</th>\n",
       "      <td>36</td>\n",
       "      <td>32.998620</td>\n",
       "    </tr>\n",
       "    <tr>\n",
       "      <th>2</th>\n",
       "      <td>31</td>\n",
       "      <td>31.759144</td>\n",
       "    </tr>\n",
       "    <tr>\n",
       "      <th>25</th>\n",
       "      <td>32</td>\n",
       "      <td>30.829538</td>\n",
       "    </tr>\n",
       "    <tr>\n",
       "      <th>3</th>\n",
       "      <td>38</td>\n",
       "      <td>33.618357</td>\n",
       "    </tr>\n",
       "  </tbody>\n",
       "</table>\n",
       "</div>"
      ],
      "text/plain": [
       "    Actual    Predict\n",
       "27      34  32.378882\n",
       "15      38  31.139406\n",
       "23      35  31.139406\n",
       "17      30  30.829538\n",
       "8       32  32.069013\n",
       "9       36  33.308489\n",
       "28      32  32.688751\n",
       "24      36  32.378882\n",
       "12      36  34.238095\n",
       "0       32  31.759144\n",
       "4       29  30.519669\n",
       "16      37  32.378882\n",
       "5       35  33.618357\n",
       "13      37  33.618357\n",
       "11      31  31.139406\n",
       "22      34  30.519669\n",
       "1       36  32.998620\n",
       "2       31  31.759144\n",
       "25      32  30.829538\n",
       "3       38  33.618357"
      ]
     },
     "execution_count": 23,
     "metadata": {},
     "output_type": "execute_result"
    }
   ],
   "source": [
    "result = pd.DataFrame({'Actual':y_test, 'Predict':y_pred})\n",
    "result"
   ]
  },
  {
   "cell_type": "markdown",
   "id": "11cab033",
   "metadata": {},
   "source": [
    "let's see how the actual and predictions are, and below is a display of the data in the form of a bar chart"
   ]
  },
  {
   "cell_type": "code",
   "execution_count": 24,
   "id": "14cd208c",
   "metadata": {},
   "outputs": [
    {
     "data": {
      "image/png": "[encoded data removed]",
      "text/plain": [
       "<Figure size 1000x800 with 1 Axes>"
      ]
     },
     "metadata": {},
     "output_type": "display_data"
    }
   ],
   "source": [
    "result.plot(kind = \"bar\", figsize = (10, 8))\n",
    "plt.show()"
   ]
  },
  {
   "cell_type": "markdown",
   "id": "d05b906b",
   "metadata": {},
   "source": [
    "from the bar chart above it can be concluded that **predictions** and **actual are not too far away**"
   ]
  },
  {
   "cell_type": "markdown",
   "id": "8520c1ab",
   "metadata": {},
   "source": [
    "We make X_train and y_train scatter plots in red for the data points\n",
    "\n",
    "we make the line plot (regression line) in blue. plot() method takes the first parameter which is the data points for the x-axis, and the second parameter is the data points for the y-axis."
   ]
  },
  {
   "cell_type": "code",
   "execution_count": 25,
   "id": "61a0ac99",
   "metadata": {},
   "outputs": [
    {
     "data": {
      "text/plain": [
       "<function matplotlib.pyplot.show(close=None, block=None)>"
      ]
     },
     "execution_count": 25,
     "metadata": {},
     "output_type": "execute_result"
    },
    {
     "data": {
      "image/png": "[encoded data removed]",
      "text/plain": [
       "<Figure size 640x480 with 1 Axes>"
      ]
     },
     "metadata": {},
     "output_type": "display_data"
    }
   ],
   "source": [
    "plt.scatter(X_train, y_train, color='red')\n",
    "plt.plot(X_test.values ,y_pred,color = 'blue')\n",
    "plt.show"
   ]
  },
  {
   "cell_type": "markdown",
   "id": "ece98de6",
   "metadata": {},
   "source": [
    "maybe because the data is too little (30) the actual data (red dots) is not too close to the predicted data (blue line)"
   ]
  },
  {
   "cell_type": "markdown",
   "id": "a1f371f1",
   "metadata": {},
   "source": [
    "Judging from the data, there is a relationship between total visitors and total buyers where **the more visitors, the more buyers**. vice versa, where **the fewer visitors the less buyers**. **there were 42 visitors a day** but a total of **only 36 buyers** probably because **the goods ran out or the visitors only looked at the supermarket**. and from **29 visitors buying 30 is likely to occur because visitors buy more than 1x**"
   ]
  },
  {
   "cell_type": "markdown",
   "id": "46e7f3f8",
   "metadata": {},
   "source": [
    "# Evaluate Model"
   ]
  },
  {
   "cell_type": "markdown",
   "id": "06cd3d1e",
   "metadata": {},
   "source": [
    "we evaluate Supermarket data processing, using RMSE MAE MAPE and R2 to find out what effect the model has on the data"
   ]
  },
  {
   "cell_type": "markdown",
   "id": "6d8ab412",
   "metadata": {},
   "source": [
    "## RMSE"
   ]
  },
  {
   "cell_type": "markdown",
   "id": "46b33ef6",
   "metadata": {},
   "source": [
    "- Root Mean Squared Error (RMSE) is one way to evaluate a linear regression model by measuring the accuracy of the forecast results of a model."
   ]
  },
  {
   "cell_type": "code",
   "execution_count": 26,
   "id": "2bf17e12",
   "metadata": {},
   "outputs": [
    {
     "data": {
      "text/plain": [
       "2.9032768988296604"
      ]
     },
     "execution_count": 26,
     "metadata": {},
     "output_type": "execute_result"
    }
   ],
   "source": [
    "rmse = np.sqrt(mean_squared_error(y_test, y_pred))\n",
    "rmse"
   ]
  },
  {
   "cell_type": "markdown",
   "id": "40b2c213",
   "metadata": {},
   "source": [
    "here we can get the **RMSE of 2.9032768988296604**. This RMSE is **relatively small** so that the **model formed is good for predicting** the data."
   ]
  },
  {
   "cell_type": "markdown",
   "id": "38368d64",
   "metadata": {},
   "source": [
    "## MAE"
   ]
  },
  {
   "cell_type": "markdown",
   "id": "609a7efb",
   "metadata": {},
   "source": [
    "- MAE (Mean Absolute Error) is the average difference between the absolute (actual) and predicted (forecasting) values."
   ]
  },
  {
   "cell_type": "code",
   "execution_count": 27,
   "id": "a5e140b3",
   "metadata": {},
   "outputs": [
    {
     "data": {
      "text/plain": [
       "2.30407177363699"
      ]
     },
     "execution_count": 27,
     "metadata": {},
     "output_type": "execute_result"
    }
   ],
   "source": [
    "mae = mean_absolute_error(y_test, y_pred)\n",
    "mae"
   ]
  },
  {
   "cell_type": "markdown",
   "id": "90fb2dd4",
   "metadata": {},
   "source": [
    "here we can get **MAE of 2.30407177363699**. This RMSE is classified as **small enough so that the model formed is good** to predict the data."
   ]
  },
  {
   "cell_type": "markdown",
   "id": "f7d924c2",
   "metadata": {},
   "source": [
    "## MAPE"
   ]
  },
  {
   "cell_type": "markdown",
   "id": "a8a5db0d",
   "metadata": {},
   "source": [
    "- Mean Absolute Percentage error (MAPE) is the absolute average percentage error."
   ]
  },
  {
   "cell_type": "code",
   "execution_count": 28,
   "id": "7f17fa14",
   "metadata": {},
   "outputs": [
    {
     "data": {
      "text/plain": [
       "0.06482235882578176"
      ]
     },
     "execution_count": 28,
     "metadata": {},
     "output_type": "execute_result"
    }
   ],
   "source": [
    "mape = mean_absolute_percentage_error(y_test, y_pred)\n",
    "mape"
   ]
  },
  {
   "cell_type": "markdown",
   "id": "f8a4b15d",
   "metadata": {},
   "source": [
    "Mape : absolute percentage of **mean error** is 0.06482235882578176 or **6%** . This mape is classified as **small enough** so that the model formed is **good for predicting the data**."
   ]
  },
  {
   "cell_type": "markdown",
   "id": "a50afcb2",
   "metadata": {},
   "source": [
    "## R2"
   ]
  },
  {
   "cell_type": "markdown",
   "id": "9f0c6a94",
   "metadata": {},
   "source": [
    "- R squared is a number ranging from 0 to 1 which indicates the magnitude of the combination of independent variables that jointly affect the value of the dependent variable. The R-squared value (R2) is used to assess how much influence certain independent latent variables have on the dependent latent variable."
   ]
  },
  {
   "cell_type": "code",
   "execution_count": 29,
   "id": "521f8c6d",
   "metadata": {},
   "outputs": [
    {
     "data": {
      "text/plain": [
       "-0.17929580290702618"
      ]
     },
     "execution_count": 29,
     "metadata": {},
     "output_type": "execute_result"
    }
   ],
   "source": [
    "r2 = r2_score(y_test, y_pred)\n",
    "r2"
   ]
  },
  {
   "cell_type": "markdown",
   "id": "505d4b2d",
   "metadata": {},
   "source": [
    "here we can get the MAE of -0.17929580290702618. This R2 means that the correlation is not too strong between visitors and buyers"
   ]
  },
  {
   "cell_type": "markdown",
   "id": "fba99f3c",
   "metadata": {},
   "source": [
    "**Results** of **RMSE, MAE, and MAPE** from simple linear regression models without and with Cross Validation and Hyperparameter Tuning have **values that are relatively small**. This shows that **the prediction error is also quite small** so **the model is classified as very good in terms of predicting the data**."
   ]
  },
  {
   "cell_type": "markdown",
   "id": "9d9f52f6",
   "metadata": {},
   "source": [
    "# Build a Model With Cross Validation"
   ]
  },
  {
   "cell_type": "markdown",
   "id": "a4e48214",
   "metadata": {},
   "source": [
    "we create a model using cross validation to get better results"
   ]
  },
  {
   "cell_type": "markdown",
   "id": "d80ea788",
   "metadata": {},
   "source": [
    "we reuse the linear regression model"
   ]
  },
  {
   "cell_type": "code",
   "execution_count": 30,
   "id": "df60ec27",
   "metadata": {},
   "outputs": [],
   "source": [
    "regressor = LinearRegression()"
   ]
  },
  {
   "cell_type": "markdown",
   "id": "90bb00ba",
   "metadata": {},
   "source": [
    "we calculate with cross value score"
   ]
  },
  {
   "cell_type": "code",
   "execution_count": 31,
   "id": "a4e46981",
   "metadata": {},
   "outputs": [
    {
     "data": {
      "text/plain": [
       "array([-1.12319223, -0.05942986, -0.53914141])"
      ]
     },
     "execution_count": 31,
     "metadata": {},
     "output_type": "execute_result"
    }
   ],
   "source": [
    "scores = cross_val_score(regressor,X_train,y_train,scoring='r2',cv=3)\n",
    "scores"
   ]
  },
  {
   "cell_type": "markdown",
   "id": "7619c32f",
   "metadata": {},
   "source": [
    "results obtained -1.12319223, -0.05942986, -0.53914141"
   ]
  },
  {
   "cell_type": "markdown",
   "id": "634114bc",
   "metadata": {},
   "source": [
    "we display the default parameters"
   ]
  },
  {
   "cell_type": "code",
   "execution_count": 32,
   "id": "956c215a",
   "metadata": {},
   "outputs": [
    {
     "data": {
      "text/plain": [
       "{'copy_X': True,\n",
       " 'fit_intercept': True,\n",
       " 'n_jobs': None,\n",
       " 'normalize': 'deprecated',\n",
       " 'positive': False}"
      ]
     },
     "execution_count": 32,
     "metadata": {},
     "output_type": "execute_result"
    }
   ],
   "source": [
    "regressor.get_params()"
   ]
  },
  {
   "cell_type": "markdown",
   "id": "8e1fa213",
   "metadata": {},
   "source": [
    "# Hyperparameter Tuning"
   ]
  },
  {
   "cell_type": "markdown",
   "id": "cc6d3bbc",
   "metadata": {},
   "source": [
    "here we will look for what parameters are the best"
   ]
  },
  {
   "cell_type": "code",
   "execution_count": 33,
   "id": "6a053310",
   "metadata": {},
   "outputs": [],
   "source": [
    "parameters = {'copy_X': [True,False],\n",
    "            'fit_intercept': [True,False],\n",
    "            'n_jobs': [None,-1],\n",
    "            'normalize': [True,False],\n",
    "            'positive': [True,False]}"
   ]
  },
  {
   "cell_type": "code",
   "execution_count": 34,
   "id": "51a04e97",
   "metadata": {},
   "outputs": [],
   "source": [
    "grid = GridSearchCV (estimator = regressor, param_grid = parameters, cv = 3)"
   ]
  },
  {
   "cell_type": "code",
   "execution_count": 35,
   "id": "ea67a0ba",
   "metadata": {},
   "outputs": [],
   "source": [
    "best_model = grid.fit(X_train, y_train)"
   ]
  },
  {
   "cell_type": "markdown",
   "id": "c9c36423",
   "metadata": {},
   "source": [
    "We show the best parameters"
   ]
  },
  {
   "cell_type": "code",
   "execution_count": 36,
   "id": "82f2952d",
   "metadata": {},
   "outputs": [
    {
     "data": {
      "text/plain": [
       "{'copy_X': True,\n",
       " 'fit_intercept': True,\n",
       " 'n_jobs': None,\n",
       " 'normalize': False,\n",
       " 'positive': True}"
      ]
     },
     "execution_count": 36,
     "metadata": {},
     "output_type": "execute_result"
    }
   ],
   "source": [
    "best_model.best_params_"
   ]
  },
  {
   "cell_type": "markdown",
   "id": "4c491784",
   "metadata": {},
   "source": [
    "from the grid results, we get copy_X': True, 'fit_intercept': True, 'n_jobs': None, 'normalize': False, 'positive': True"
   ]
  },
  {
   "cell_type": "markdown",
   "id": "e852b8e7",
   "metadata": {},
   "source": [
    "# Building a Model With Hyperparameter Tuning"
   ]
  },
  {
   "cell_type": "markdown",
   "id": "0b094618",
   "metadata": {},
   "source": [
    "we build a model using the results of the best model above"
   ]
  },
  {
   "cell_type": "markdown",
   "id": "709fe91f",
   "metadata": {},
   "source": [
    "we pass the best parameter to LinearRegression"
   ]
  },
  {
   "cell_type": "code",
   "execution_count": 37,
   "id": "df9cdca4",
   "metadata": {},
   "outputs": [],
   "source": [
    "#Model with best param\n",
    "regressor_new = LinearRegression(positive=False, normalize=True, n_jobs=None, fit_intercept=True, copy_X=True)"
   ]
  },
  {
   "cell_type": "markdown",
   "id": "6571fe20",
   "metadata": {},
   "source": [
    "we train again using the best parameter"
   ]
  },
  {
   "cell_type": "code",
   "execution_count": 38,
   "id": "9f38745a",
   "metadata": {},
   "outputs": [],
   "source": [
    "# train with best parameter\n",
    "model_new = regressor_new.fit(X_train,y_train)"
   ]
  },
  {
   "cell_type": "markdown",
   "id": "5523e65a",
   "metadata": {},
   "source": [
    "we predict using the best parameter"
   ]
  },
  {
   "cell_type": "code",
   "execution_count": 39,
   "id": "7ff307d7",
   "metadata": {},
   "outputs": [],
   "source": [
    "# predict with best parameter\n",
    "y_pred_new = regressor_new.predict(X_test)"
   ]
  },
  {
   "cell_type": "markdown",
   "id": "ba63ca1b",
   "metadata": {},
   "source": [
    "# Evaluate New Model"
   ]
  },
  {
   "cell_type": "markdown",
   "id": "a10395e0",
   "metadata": {},
   "source": [
    "we re-evaluate with Hyperparameter Tuning"
   ]
  },
  {
   "cell_type": "markdown",
   "id": "5c26bebd",
   "metadata": {},
   "source": [
    "# RMSE"
   ]
  },
  {
   "cell_type": "markdown",
   "id": "d68207ce",
   "metadata": {},
   "source": [
    "we show the RMSE results with the new model"
   ]
  },
  {
   "cell_type": "code",
   "execution_count": 40,
   "id": "4a279ed8",
   "metadata": {},
   "outputs": [
    {
     "data": {
      "text/plain": [
       "2.9032768988296604"
      ]
     },
     "execution_count": 40,
     "metadata": {},
     "output_type": "execute_result"
    }
   ],
   "source": [
    "rmse_new = np.sqrt(mean_squared_error(y_test, y_pred_new))\n",
    "rmse_new"
   ]
  },
  {
   "cell_type": "markdown",
   "id": "15405647",
   "metadata": {},
   "source": [
    "# MAE"
   ]
  },
  {
   "cell_type": "markdown",
   "id": "892d7804",
   "metadata": {},
   "source": [
    "we show the results of MAE with the new model"
   ]
  },
  {
   "cell_type": "code",
   "execution_count": 41,
   "id": "f845980c",
   "metadata": {},
   "outputs": [
    {
     "data": {
      "text/plain": [
       "2.30407177363699"
      ]
     },
     "execution_count": 41,
     "metadata": {},
     "output_type": "execute_result"
    }
   ],
   "source": [
    "mae_new = mean_absolute_error(y_test, y_pred_new)\n",
    "mae_new"
   ]
  },
  {
   "cell_type": "markdown",
   "id": "93eaa40d",
   "metadata": {},
   "source": [
    "# MAPE"
   ]
  },
  {
   "cell_type": "markdown",
   "id": "8faddcd0",
   "metadata": {},
   "source": [
    "we show the results of MAPE with the new model"
   ]
  },
  {
   "cell_type": "code",
   "execution_count": 42,
   "id": "28db2f13",
   "metadata": {},
   "outputs": [
    {
     "data": {
      "text/plain": [
       "0.06482235882578176"
      ]
     },
     "execution_count": 42,
     "metadata": {},
     "output_type": "execute_result"
    }
   ],
   "source": [
    "mape_new = mean_absolute_percentage_error(y_test, y_pred_new)\n",
    "mape_new"
   ]
  },
  {
   "cell_type": "markdown",
   "id": "52b8b869",
   "metadata": {},
   "source": [
    "# R2"
   ]
  },
  {
   "cell_type": "markdown",
   "id": "5e7d3492",
   "metadata": {},
   "source": [
    "we show the results of R2 with the new model"
   ]
  },
  {
   "cell_type": "code",
   "execution_count": 43,
   "id": "7026ef7d",
   "metadata": {},
   "outputs": [
    {
     "data": {
      "text/plain": [
       "-0.17929580290702618"
      ]
     },
     "execution_count": 43,
     "metadata": {},
     "output_type": "execute_result"
    }
   ],
   "source": [
    "r2_new = r2_score(y_test, y_pred_new)\n",
    "r2_new"
   ]
  },
  {
   "cell_type": "markdown",
   "id": "ece888cd",
   "metadata": {},
   "source": [
    "## Comparing RMSE, MAE,  MAPE and R2 before and after hyperparameter tuning"
   ]
  },
  {
   "cell_type": "markdown",
   "id": "48b48c5c",
   "metadata": {},
   "source": [
    "# Compare RMSE"
   ]
  },
  {
   "cell_type": "markdown",
   "id": "d36df6b2",
   "metadata": {},
   "source": [
    "comparison of the RMSE results of the old model with the new one"
   ]
  },
  {
   "cell_type": "code",
   "execution_count": 44,
   "id": "8cd9849b",
   "metadata": {},
   "outputs": [],
   "source": [
    "comp_rmse=pd.DataFrame({\"RMSE\" :[\"Before\",\"After\"],\"Value\":[rmse,rmse_new]})"
   ]
  },
  {
   "cell_type": "markdown",
   "id": "9f6b9daf",
   "metadata": {},
   "source": [
    "we check whether the old model results are the same as the new data"
   ]
  },
  {
   "cell_type": "code",
   "execution_count": 45,
   "id": "5c921dc3",
   "metadata": {},
   "outputs": [
    {
     "name": "stdout",
     "output_type": "stream",
     "text": [
      "False\n",
      "True\n",
      "0.0\n"
     ]
    }
   ],
   "source": [
    "print(rmse > rmse_new)\n",
    "print(rmse == rmse_new)\n",
    "print(rmse_new - rmse)"
   ]
  },
  {
   "cell_type": "markdown",
   "id": "a39853c4",
   "metadata": {},
   "source": [
    "here it is obtained if before and after the hyperparameter there is no change, either because the data is too small or something"
   ]
  },
  {
   "cell_type": "markdown",
   "id": "86f70414",
   "metadata": {},
   "source": [
    "__________________________"
   ]
  },
  {
   "cell_type": "markdown",
   "id": "2d3ad618",
   "metadata": {},
   "source": [
    "# Compare MAE"
   ]
  },
  {
   "cell_type": "markdown",
   "id": "ec165a0f",
   "metadata": {},
   "source": [
    "comparison of the MAE results of the old model with the new one"
   ]
  },
  {
   "cell_type": "code",
   "execution_count": 46,
   "id": "8edfecee",
   "metadata": {},
   "outputs": [],
   "source": [
    "comp_mae=pd.DataFrame({\"MAE\" :[\"Before\",\"After\"],\"Value\":[mae,mae_new]})"
   ]
  },
  {
   "cell_type": "markdown",
   "id": "6cfbd2f5",
   "metadata": {},
   "source": [
    "we check whether the old model results are the same as the new data"
   ]
  },
  {
   "cell_type": "code",
   "execution_count": 47,
   "id": "ef960408",
   "metadata": {},
   "outputs": [
    {
     "name": "stdout",
     "output_type": "stream",
     "text": [
      "False\n",
      "True\n",
      "0.0\n"
     ]
    }
   ],
   "source": [
    "print(mae > mae_new)\n",
    "print(mae == mae_new)\n",
    "print(mae_new - mae)"
   ]
  },
  {
   "cell_type": "markdown",
   "id": "b428ddea",
   "metadata": {},
   "source": [
    "here it is obtained if before and after the hyperparameter there is no change, either because the data is too small or something"
   ]
  },
  {
   "cell_type": "markdown",
   "id": "1a2f44a0",
   "metadata": {},
   "source": [
    "__________________________"
   ]
  },
  {
   "cell_type": "markdown",
   "id": "f0e50219",
   "metadata": {},
   "source": [
    "# Compare MAPE"
   ]
  },
  {
   "cell_type": "markdown",
   "id": "94208808",
   "metadata": {},
   "source": [
    "comparison of the MAPE results of the old model with the new one"
   ]
  },
  {
   "cell_type": "code",
   "execution_count": 48,
   "id": "299322b9",
   "metadata": {},
   "outputs": [
    {
     "data": {
      "text/html": [
       "<div>\n",
       "<style scoped>\n",
       "    .dataframe tbody tr th:only-of-type {\n",
       "        vertical-align: middle;\n",
       "    }\n",
       "\n",
       "    .dataframe tbody tr th {\n",
       "        vertical-align: top;\n",
       "    }\n",
       "\n",
       "    .dataframe thead th {\n",
       "        text-align: right;\n",
       "    }\n",
       "</style>\n",
       "<table border=\"1\" class=\"dataframe\">\n",
       "  <thead>\n",
       "    <tr style=\"text-align: right;\">\n",
       "      <th></th>\n",
       "      <th>MAPE</th>\n",
       "      <th>Value</th>\n",
       "    </tr>\n",
       "  </thead>\n",
       "  <tbody>\n",
       "    <tr>\n",
       "      <th>0</th>\n",
       "      <td>Before</td>\n",
       "      <td>0.064822</td>\n",
       "    </tr>\n",
       "    <tr>\n",
       "      <th>1</th>\n",
       "      <td>After</td>\n",
       "      <td>0.064822</td>\n",
       "    </tr>\n",
       "  </tbody>\n",
       "</table>\n",
       "</div>"
      ],
      "text/plain": [
       "     MAPE     Value\n",
       "0  Before  0.064822\n",
       "1   After  0.064822"
      ]
     },
     "execution_count": 48,
     "metadata": {},
     "output_type": "execute_result"
    }
   ],
   "source": [
    "comp_mape=pd.DataFrame({\"MAPE\" :[\"Before\",\"After\"],\"Value\":[mape,mape_new]})\n",
    "comp_mape"
   ]
  },
  {
   "cell_type": "markdown",
   "id": "bcda6f04",
   "metadata": {},
   "source": [
    "we check whether the old model results are the same as the new data"
   ]
  },
  {
   "cell_type": "code",
   "execution_count": 49,
   "id": "f76dfb6c",
   "metadata": {},
   "outputs": [
    {
     "name": "stdout",
     "output_type": "stream",
     "text": [
      "False\n",
      "True\n",
      "0.0\n"
     ]
    }
   ],
   "source": [
    "print(mape > mape_new)\n",
    "print(mape == mape_new)\n",
    "print(mape_new - mape)"
   ]
  },
  {
   "cell_type": "markdown",
   "id": "a635116b",
   "metadata": {},
   "source": [
    "here it is obtained if before and after the hyperparameter there is no change, either because the data is too small or something"
   ]
  },
  {
   "cell_type": "markdown",
   "id": "ee220af3",
   "metadata": {},
   "source": [
    "__________________________"
   ]
  },
  {
   "cell_type": "markdown",
   "id": "a9f173ca",
   "metadata": {},
   "source": [
    "# Compare R2"
   ]
  },
  {
   "cell_type": "markdown",
   "id": "bdb8092b",
   "metadata": {},
   "source": [
    "comparison of the R2 results of the old model with the new one"
   ]
  },
  {
   "cell_type": "code",
   "execution_count": 50,
   "id": "0f5b69ba",
   "metadata": {},
   "outputs": [
    {
     "data": {
      "text/html": [
       "<div>\n",
       "<style scoped>\n",
       "    .dataframe tbody tr th:only-of-type {\n",
       "        vertical-align: middle;\n",
       "    }\n",
       "\n",
       "    .dataframe tbody tr th {\n",
       "        vertical-align: top;\n",
       "    }\n",
       "\n",
       "    .dataframe thead th {\n",
       "        text-align: right;\n",
       "    }\n",
       "</style>\n",
       "<table border=\"1\" class=\"dataframe\">\n",
       "  <thead>\n",
       "    <tr style=\"text-align: right;\">\n",
       "      <th></th>\n",
       "      <th>R2</th>\n",
       "      <th>Value</th>\n",
       "    </tr>\n",
       "  </thead>\n",
       "  <tbody>\n",
       "    <tr>\n",
       "      <th>0</th>\n",
       "      <td>Before</td>\n",
       "      <td>-0.179296</td>\n",
       "    </tr>\n",
       "    <tr>\n",
       "      <th>1</th>\n",
       "      <td>After</td>\n",
       "      <td>-0.179296</td>\n",
       "    </tr>\n",
       "  </tbody>\n",
       "</table>\n",
       "</div>"
      ],
      "text/plain": [
       "       R2     Value\n",
       "0  Before -0.179296\n",
       "1   After -0.179296"
      ]
     },
     "execution_count": 50,
     "metadata": {},
     "output_type": "execute_result"
    }
   ],
   "source": [
    "comp_r2=pd.DataFrame({\"R2\" :[\"Before\",\"After\"],\"Value\":[r2,r2_new]})\n",
    "comp_r2"
   ]
  },
  {
   "cell_type": "markdown",
   "id": "92ffab48",
   "metadata": {},
   "source": [
    "we check whether the old model results are the same as the new data"
   ]
  },
  {
   "cell_type": "code",
   "execution_count": 51,
   "id": "0b464d6c",
   "metadata": {},
   "outputs": [
    {
     "name": "stdout",
     "output_type": "stream",
     "text": [
      "False\n",
      "True\n",
      "0.0\n"
     ]
    }
   ],
   "source": [
    "print(r2 > r2_new)\n",
    "print(r2 == r2_new)\n",
    "print(r2_new - r2)"
   ]
  },
  {
   "cell_type": "markdown",
   "id": "152b44d8",
   "metadata": {},
   "source": [
    "here it is obtained if before and after the hyperparameter there is no change, either because the data is too small or something"
   ]
  },
  {
   "cell_type": "markdown",
   "id": "2a50807c",
   "metadata": {},
   "source": [
    "# Deployment"
   ]
  },
  {
   "cell_type": "markdown",
   "id": "59a0ab7a",
   "metadata": {},
   "source": [
    "we enter the vscode training data"
   ]
  },
  {
   "cell_type": "code",
   "execution_count": 52,
   "id": "1f3b22d9",
   "metadata": {},
   "outputs": [
    {
     "name": "stdout",
     "output_type": "stream",
     "text": [
      "  RMSE: 2.9032768988296604\n",
      "  MAE: 2.30407177363699\n",
      "  MAPE: 0.06482235882578176\n",
      "  R2: -0.17929580290702618\n"
     ]
    }
   ],
   "source": [
    "# Importing Packages\n",
    "import pandas as pd\n",
    "import numpy as np\n",
    "from sklearn.linear_model import LinearRegression\n",
    "from sklearn.model_selection import train_test_split\n",
    "from sklearn.preprocessing import StandardScaler\n",
    "from sklearn.preprocessing import MinMaxScaler\n",
    "from sklearn.metrics import mean_absolute_error\n",
    "from sklearn.metrics import mean_absolute_percentage_error\n",
    "from sklearn.metrics import r2_score\n",
    "from sklearn.metrics import mean_squared_error\n",
    "from sklearn.metrics import mean_squared_error, mean_absolute_error, mean_absolute_percentage_error, r2_score\n",
    "\n",
    "import warnings\n",
    "warnings.filterwarnings('ignore')\n",
    "\n",
    "from urllib.parse import urlparse\n",
    "\n",
    "import mlflow\n",
    "import mlflow.sklearn\n",
    "\n",
    "import logging\n",
    "\n",
    "logging.basicConfig(level=logging.WARN)\n",
    "logger = logging.getLogger(__name__)\n",
    "\n",
    "if __name__ == \"__main__\":\n",
    "    warnings.filterwarnings(\"ignore\")\n",
    "    np.random.seed(40)\n",
    "\n",
    "# load dataset\n",
    "\n",
    "df = pd.read_csv(\"supermarket_buyer.csv\")\n",
    "\n",
    "# Preproseccing Model\n",
    "X = df.drop([\"Buyer\"],axis=1)\n",
    "y = df[\"Buyer\"]\n",
    "\n",
    "# Split train test\n",
    "X_train, X_test, y_train, y_test = train_test_split(X, y, train_size = 1/3, random_state = 42)\n",
    "\n",
    "def eval_metrics(actual, pred):\n",
    "    rmse = np.sqrt(mean_squared_error(actual, pred))\n",
    "    mae = mean_absolute_error(actual, pred)\n",
    "    mape = mean_absolute_percentage_error(actual, pred)\n",
    "    r2 = r2_score(actual, pred)\n",
    "    return rmse, mae, mape, r2\n",
    "\n",
    "# modeling\n",
    "\n",
    "with mlflow.start_run():\n",
    "        lr = LinearRegression (positive=False, normalize=True, n_jobs=None, fit_intercept=True, copy_X=True)\n",
    "        lr.fit(X_train, y_train)\n",
    "\n",
    "        y_pred = lr.predict(X_test)\n",
    "\n",
    "        (rmse, mae, mape, r2) = eval_metrics(y_test, y_pred)\n",
    "\n",
    "        print(\"  RMSE: %s\" % rmse)\n",
    "        print(\"  MAE: %s\" % mae)\n",
    "        print(\"  MAPE: %s\" % mape)\n",
    "        print(\"  R2: %s\" % r2)\n",
    "\n",
    "\n",
    "        mlflow.log_metric(\"rmse\", rmse)\n",
    "        mlflow.log_metric(\"mae\", mae)\n",
    "        mlflow.log_metric(\"mape\", mape)\n",
    "        mlflow.log_metric(\"r2\", r2)\n",
    "    \n",
    "\n",
    "        tracking_url_type_store = urlparse(mlflow.get_tracking_uri()).scheme\n",
    "\n",
    "        if tracking_url_type_store != \"file\":\n",
    "            mlflow.sklearn.log_model(lr, \"model\", registered_model_name=\"Linear Regression\")\n",
    "        else:\n",
    "            mlflow.sklearn.log_model(lr, \"model\")"
   ]
  },
  {
   "cell_type": "markdown",
   "id": "9b5b5d19",
   "metadata": {},
   "source": [
    "# Result\n"
   ]
  },
  {
   "cell_type": "markdown",
   "id": "6a0f90d5",
   "metadata": {},
   "source": [
    "From the results of a descriptive analysis using 30 rows of data, some insights were obtained. The distribution of the data is still normal, this can be seen from the small standard deviation. **On average** buyers are 35 visitors with 33 purchases.**In busy times** , the maximum number of visitors is 42 visitors with **the most purchases** are 38. **The quietest visitors** are 29 visitors and **the minimum buyer** is 29 so that **it can be concluded that most likely when it is quiet every visitor buys 1 goods**. When there were 38 visitors, the average purchase was 36. When there were 35 visitors, the average buyer was 33. When there were 32 visitors, the average buyer was 31.\n",
    "\n",
    "From visitor data in the last month, **the most frequent** (4 days) visitors came to the supermarket **as many as 40 and 36 visitors**. this might happen because **weekends** in one month can happen 4 times (Saturdays and Sundays). **the loneliest day** happened when one day only had **29 visitors**, fortunately it only happened for 1 day. **possibly** there will be no visitors because it falls on **Monday and it's raining**\n",
    "\n",
    "from the last month's data, most often (**6 days**) there are **32 buyers in one day**. it might happen because it coincides with **weekend and there is a promotion**. and **the loneliest** day of buyers occurred where there were only **29 buyers in one day.**\n",
    "\n",
    "can be seen here, the possibility of a visitor coming in one day to buy **more than one item is 26%**. this might happen because **visitor's friends / family ask to buy the same item as the visitor**\n",
    "\n",
    "from Visitor and Buyer distribution. the graph above it can be concluded that **data distribution is not normal**. **because the mean, mode and median are not the same**\n",
    "\n",
    "from heatmap, there is a strong relationship of total visitors to buyers. **the more visitors the more buyers**. with a correlation value on the heatmap of **0.57** where the figure is above **0.5**\n",
    "\n",
    "\n",
    "we can get the **RMSE of 2.9032768988296604**. This RMSE is **relatively small** so that the **model formed is good for predicting** the data.\n",
    "\n",
    "\n",
    "we can get **MAE of 2.30407177363699**. This RMSE is classified as **small enough so that the model formed is good** to predict the data.\n",
    "\n",
    "Mape : absolute percentage of **mean error** is 0.06482235882578176 or **6%** . This mape is classified as **small enough** so that the model formed is **good for predicting the data**.\n",
    "\n",
    "here we can get the MAE of -0.17929580290702618. This R2 means that the correlation is not too strong between visitors and buyers\n",
    "\n",
    "**Results** of **RMSE, MAE, and MAPE** from simple linear regression models without and with Cross Validation and Hyperparameter Tuning have **values that are relatively small**. This shows that **the prediction error is also quite small** so **the model is classified as very good in terms of predicting the data**.\n",
    "\n",
    "When we compate with Cross model, the results obtained both before and after the results are the same\n",
    "\n",
    "with deployment code, we got same score like :   \n",
    "\n",
    "RMSE: 2.9032768988296604\n",
    "  \n",
    "  MAE: 2.30407177363699\n",
    "  \n",
    "  MAPE: 0.06482235882578176\n",
    "  \n",
    "  R2: -0.17929580290702618"
   ]
  },
  {
   "cell_type": "markdown",
   "id": "b52f230e",
   "metadata": {},
   "source": [
    "# Recomendation"
   ]
  },
  {
   "cell_type": "markdown",
   "id": "8eb6ec3c",
   "metadata": {},
   "source": [
    "It's been good between visitors and total buyers, but **needs to increase the value of existing goods** because you can see there are still **visitors just looking at them without buying**\n",
    "\n",
    "on **weekend** you can **multiply goods** because buyers occur at that time\n",
    "\n",
    "on **weekday** you can **promote goods** and **discounts for the number of buyers**"
   ]
  },
  {
   "cell_type": "markdown",
   "id": "ae3080c7",
   "metadata": {},
   "source": [
    "# Deployment Result"
   ]
  },
  {
   "cell_type": "markdown",
   "id": "f268c27b",
   "metadata": {},
   "source": [
    "MLFlow is a tool used to make it easier for Data Scientists so they don't have to worry about organizing models, recording each experiment, and facilitating the deployment process."
   ]
  },
  {
   "cell_type": "markdown",
   "id": "aa7f5bd9",
   "metadata": {},
   "source": [
    "there are several features in mlflow, but what we use is model tracking on rmse, mae, mape, and r2"
   ]
  },
  {
   "attachments": {
    "image.png": {
     "image/png": "[encoded data removed]"
    }
   },
   "cell_type": "markdown",
   "id": "bd49ba26",
   "metadata": {},
   "source": [
    "![image.png](attachment:image.png)"
   ]
  },
  {
   "cell_type": "markdown",
   "id": "f05526a6",
   "metadata": {},
   "source": [
    "Model tracking is a feature for recording experiments so that each experiment will be properly recorded in mlflow."
   ]
  },
  {
   "cell_type": "code",
   "execution_count": null,
   "id": "ba19f354",
   "metadata": {},
   "outputs": [],
   "source": []
  }
 ],
 "metadata": {
  "kernelspec": {
   "display_name": "Python 3 (ipykernel)",
   "language": "python",
   "name": "python3"
  },
  "language_info": {
   "codemirror_mode": {
    "name": "ipython",
    "version": 3
   },
   "file_extension": ".py",
   "mimetype": "text/x-python",
   "name": "python",
   "nbconvert_exporter": "python",
   "pygments_lexer": "ipython3",
   "version": "3.9.13"
  }
 },
 "nbformat": 4,
 "nbformat_minor": 5
}
